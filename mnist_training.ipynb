{
  "nbformat": 4,
  "nbformat_minor": 0,
  "metadata": {
    "colab": {
      "name": "Untitled1.ipynb",
      "provenance": []
    },
    "kernelspec": {
      "name": "python3",
      "display_name": "Python 3"
    }
  },
  "cells": [
    {
      "cell_type": "code",
      "metadata": {
        "id": "vTCRO_RK7Jaq",
        "colab": {
          "base_uri": "https://localhost:8080/"
        },
        "outputId": "3ee6f1c4-4a1d-41ed-9ba8-264b745cccee"
      },
      "source": [
        "print('hello')"
      ],
      "execution_count": null,
      "outputs": [
        {
          "output_type": "stream",
          "text": [
            "hello\n"
          ],
          "name": "stdout"
        }
      ]
    },
    {
      "cell_type": "code",
      "metadata": {
        "id": "tZ8S3AK_7QM8"
      },
      "source": [
        "print ('hi')"
      ],
      "execution_count": null,
      "outputs": []
    }
  ]
}